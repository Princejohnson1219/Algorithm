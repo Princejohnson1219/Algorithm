{
 "cells": [
  {
   "cell_type": "code",
   "execution_count": 1,
   "id": "25ae9679",
   "metadata": {},
   "outputs": [
    {
     "name": "stdout",
     "output_type": "stream",
     "text": [
      "Sorted character array is Pceinr\n"
     ]
    }
   ],
   "source": [
    "def countSort(arr): \n",
    "    output = [0 for i in range(256)] \n",
    "    count = [0 for i in range(256)] \n",
    "    ans = [\"\" for _ in arr] \n",
    "\n",
    "    for i in arr: \n",
    "        count[ord(i)] += 1\n",
    "\n",
    "    for i in range(256): \n",
    "        count[i] += count[i-1] \n",
    "\n",
    "    for i in range(len(arr)): \n",
    "        output[count[ord(arr[i])]-1] = arr[i] \n",
    "        count[ord(arr[i])] -= 1\n",
    "\n",
    "    for i in range(len(arr)): \n",
    "        ans[i] = output[i] \n",
    "    return ans\n",
    "\n",
    "arr = \"Prince\"\n",
    "ans = countSort(arr) \n",
    "print (\"Sorted character array is %s\"  %(\"\".join(ans)))"
   ]
  },
  {
   "cell_type": "code",
   "execution_count": null,
   "id": "948d2065",
   "metadata": {},
   "outputs": [],
   "source": []
  }
 ],
 "metadata": {
  "kernelspec": {
   "display_name": "Python 3",
   "language": "python",
   "name": "python3"
  },
  "language_info": {
   "codemirror_mode": {
    "name": "ipython",
    "version": 3
   },
   "file_extension": ".py",
   "mimetype": "text/x-python",
   "name": "python",
   "nbconvert_exporter": "python",
   "pygments_lexer": "ipython3",
   "version": "3.6.13"
  }
 },
 "nbformat": 4,
 "nbformat_minor": 5
}
