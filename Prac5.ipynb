{
 "cells": [
  {
   "cell_type": "code",
   "execution_count": 1,
   "id": "f7e04a94",
   "metadata": {},
   "outputs": [
    {
     "name": "stdout",
     "output_type": "stream",
     "text": [
      "Following matrix shows the shortest distances between every pair of vertices\n",
      "      0\t\n",
      "      5\t\n",
      "      8\t\n",
      "      9\t\n",
      "\n",
      "    INF\n",
      "      0\t\n",
      "      3\t\n",
      "      4\t\n",
      "\n",
      "    INF\n",
      "    INF\n",
      "      0\t\n",
      "      1\t\n",
      "\n",
      "    INF\n",
      "    INF\n",
      "    INF\n",
      "      0\t\n",
      "\n"
     ]
    }
   ],
   "source": [
    "V = 4 \n",
    "\n",
    "INF  = 99999\n",
    "\n",
    "def floydWarshall(graph): \n",
    "\n",
    "    dist = list(map(lambda i : list(map(lambda j : j , i)) , graph))\n",
    "\n",
    "    for k in range(V):\n",
    "        for i in range(V):\n",
    "            for j in range(V):\n",
    "                dist[i][j] = min(dist[i][j], dist[i][k] + dist[k][j]) \n",
    "    printSolution(dist) \n",
    "\n",
    "def printSolution(dist): \n",
    "    print (\"Following matrix shows the shortest distances between every pair of vertices\") \n",
    "    for i in range(V): \n",
    "        for j in range(V): \n",
    "            if(dist[i][j] == INF): \n",
    "                print (\"%7s\" %(\"INF\"))\n",
    "            else: \n",
    "                print (\"%7d\\t\" %(dist[i][j]))\n",
    "            if j == V-1: \n",
    "                print (\"\") \n",
    "\n",
    "graph = [[0,5,INF,10], \n",
    "             [INF,0,3,INF], \n",
    "             [INF, INF, 0,   1], \n",
    "             [INF, INF, INF, 0] \n",
    "        ] \n",
    "\n",
    "floydWarshall(graph);"
   ]
  },
  {
   "cell_type": "code",
   "execution_count": null,
   "id": "3ceed2af",
   "metadata": {},
   "outputs": [],
   "source": []
  }
 ],
 "metadata": {
  "kernelspec": {
   "display_name": "Python 3",
   "language": "python",
   "name": "python3"
  },
  "language_info": {
   "codemirror_mode": {
    "name": "ipython",
    "version": 3
   },
   "file_extension": ".py",
   "mimetype": "text/x-python",
   "name": "python",
   "nbconvert_exporter": "python",
   "pygments_lexer": "ipython3",
   "version": "3.6.13"
  }
 },
 "nbformat": 4,
 "nbformat_minor": 5
}
